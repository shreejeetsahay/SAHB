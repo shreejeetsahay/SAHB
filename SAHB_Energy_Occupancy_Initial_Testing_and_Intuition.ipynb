{
  "nbformat": 4,
  "nbformat_minor": 0,
  "metadata": {
    "colab": {
      "provenance": []
    },
    "kernelspec": {
      "name": "python3",
      "display_name": "Python 3"
    },
    "language_info": {
      "name": "python"
    }
  },
  "cells": [
    {
      "cell_type": "code",
      "source": [
        "#Do imports here please\n",
        "import numpy as np\n",
        "import matplotlib.pyplot as plt\n",
        "import pandas as pd\n",
        "from sklearn.cluster import KMeans\n",
        "\n",
        "!pip install influxdb\n",
        "import influxdb\n",
        "\n",
        "!pip3 install iso8601\n",
        "import iso8601"
      ],
      "metadata": {
        "colab": {
          "base_uri": "https://localhost:8080/"
        },
        "id": "0EKDQcxyHDRu",
        "outputId": "e8318c53-f087-451e-f46a-71db1991a60b"
      },
      "execution_count": null,
      "outputs": [
        {
          "output_type": "stream",
          "name": "stdout",
          "text": [
            "Collecting influxdb\n",
            "  Downloading influxdb-5.3.2-py2.py3-none-any.whl.metadata (6.9 kB)\n",
            "Requirement already satisfied: python-dateutil>=2.6.0 in /usr/local/lib/python3.10/dist-packages (from influxdb) (2.8.2)\n",
            "Requirement already satisfied: pytz in /usr/local/lib/python3.10/dist-packages (from influxdb) (2024.2)\n",
            "Requirement already satisfied: requests>=2.17.0 in /usr/local/lib/python3.10/dist-packages (from influxdb) (2.32.3)\n",
            "Requirement already satisfied: six>=1.10.0 in /usr/local/lib/python3.10/dist-packages (from influxdb) (1.16.0)\n",
            "Requirement already satisfied: msgpack in /usr/local/lib/python3.10/dist-packages (from influxdb) (1.1.0)\n",
            "Requirement already satisfied: charset-normalizer<4,>=2 in /usr/local/lib/python3.10/dist-packages (from requests>=2.17.0->influxdb) (3.4.0)\n",
            "Requirement already satisfied: idna<4,>=2.5 in /usr/local/lib/python3.10/dist-packages (from requests>=2.17.0->influxdb) (3.10)\n",
            "Requirement already satisfied: urllib3<3,>=1.21.1 in /usr/local/lib/python3.10/dist-packages (from requests>=2.17.0->influxdb) (2.2.3)\n",
            "Requirement already satisfied: certifi>=2017.4.17 in /usr/local/lib/python3.10/dist-packages (from requests>=2.17.0->influxdb) (2024.8.30)\n",
            "Downloading influxdb-5.3.2-py2.py3-none-any.whl (79 kB)\n",
            "\u001b[?25l   \u001b[90m━━━━━━━━━━━━━━━━━━━━━━━━━━━━━━━━━━━━━━━━\u001b[0m \u001b[32m0.0/79.4 kB\u001b[0m \u001b[31m?\u001b[0m eta \u001b[36m-:--:--\u001b[0m\r\u001b[2K   \u001b[91m━━━━━━━━━━━━━━━━━━━━━━━━━━━━━━━━━━━━\u001b[0m\u001b[90m╺\u001b[0m\u001b[90m━━━\u001b[0m \u001b[32m71.7/79.4 kB\u001b[0m \u001b[31m2.3 MB/s\u001b[0m eta \u001b[36m0:00:01\u001b[0m\r\u001b[2K   \u001b[90m━━━━━━━━━━━━━━━━━━━━━━━━━━━━━━━━━━━━━━━━\u001b[0m \u001b[32m79.4/79.4 kB\u001b[0m \u001b[31m1.8 MB/s\u001b[0m eta \u001b[36m0:00:00\u001b[0m\n",
            "\u001b[?25hInstalling collected packages: influxdb\n",
            "Successfully installed influxdb-5.3.2\n",
            "Collecting iso8601\n",
            "  Downloading iso8601-2.1.0-py3-none-any.whl.metadata (3.7 kB)\n",
            "Downloading iso8601-2.1.0-py3-none-any.whl (7.5 kB)\n",
            "Installing collected packages: iso8601\n",
            "Successfully installed iso8601-2.1.0\n"
          ]
        }
      ]
    },
    {
      "cell_type": "code",
      "execution_count": null,
      "metadata": {
        "id": "riB0W3rcDOyX"
      },
      "outputs": [],
      "source": [
        "#Taken from CPS1 Assignment A of group member Aidan, who is in both classes\n",
        "HOST = 'influx.linklab.virginia.edu'\n",
        "PORT = 443\n",
        "USERNAME = 'cps1f23'\n",
        "PASSWORD = 'phah7goohohng5ooL9mae1quohpei1Ahsh1uGing'\n",
        "DATABASE = 'gateway-generic'\n",
        "\n",
        "client = influxdb.InfluxDBClient(HOST, PORT, USERNAME, PASSWORD, DATABASE, ssl=True, verify_ssl=True)\n",
        "\n",
        "def gatherData(firstMeasure = \"Temperature_°C\", secondMeasure = \"Illumination_lx\"):\n",
        "  firstData = client.query(f\"SELECT MEAN(value) FROM \\\"{firstMeasure}\\\" WHERE time >= '2024-05-01T00:00:00Z' AND time <= '2024-05-31T00:00:00Z' GROUP BY time(10m),device_id,location_specific\")\n",
        "  secondData = client.query(f\"SELECT MEAN(value) FROM \\\"{secondMeasure}\\\" WHERE time >= '2024-05-01T00:00:00Z' AND time <= '2024-05-31T00:00:00Z' GROUP BY time(10m),device_id,location_specific\")\n",
        "\n",
        "  extracted_data = []\n",
        "  n = 0\n",
        "  for i in firstData:\n",
        "    for j in i:\n",
        "      data = {'location_specific': firstData.keys()[n][1]['location_specific'], 'device_id': firstData.keys()[n][1]['device_id'],'time': j['time'], firstMeasure: j['mean']}\n",
        "      extracted_data.append(data)\n",
        "\n",
        "    n += 1\n",
        "\n",
        "  firstDF = pd.DataFrame(extracted_data)\n",
        "\n",
        "  extracted_data = []\n",
        "  n = 0\n",
        "  for i in secondData:\n",
        "    for j in i:\n",
        "      data = {'location_specific': secondData.keys()[n][1]['location_specific'], 'device_id': secondData.keys()[n][1]['device_id'],'time': j['time'], secondMeasure: j['mean']}\n",
        "      extracted_data.append(data)\n",
        "\n",
        "    n += 1\n",
        "\n",
        "  secondDF = pd.DataFrame(extracted_data)\n",
        "\n",
        "  return pd.merge(firstDF, secondDF, on=['time','location_specific'], how='inner').dropna()"
      ]
    },
    {
      "cell_type": "markdown",
      "source": [
        "# Original Data Gathering"
      ],
      "metadata": {
        "id": "ywRdDcrIQMQX"
      }
    },
    {
      "cell_type": "code",
      "source": [
        "#This takes a very long time to run, probably don't. Aidan has a csv with the output saved on google drive, check the discord for it\n",
        "raw_data = gatherData(firstMeasure = \"co2_ppm\", secondMeasure = \"voltage_v\")"
      ],
      "metadata": {
        "id": "OOtTkRo0HOyh",
        "colab": {
          "base_uri": "https://localhost:8080/",
          "height": 311
        },
        "outputId": "7ab7ddfd-4b7a-4c55-83d8-0e8f6bbc3be3"
      },
      "execution_count": null,
      "outputs": [
        {
          "output_type": "error",
          "ename": "KeyboardInterrupt",
          "evalue": "",
          "traceback": [
            "\u001b[0;31m---------------------------------------------------------------------------\u001b[0m",
            "\u001b[0;31mKeyboardInterrupt\u001b[0m                         Traceback (most recent call last)",
            "\u001b[0;32m<ipython-input-3-e356fa2b37c4>\u001b[0m in \u001b[0;36m<cell line: 2>\u001b[0;34m()\u001b[0m\n\u001b[1;32m      1\u001b[0m \u001b[0;31m#This takes a very long time to run, probably don't. Aidan has a csv with the output saved on google drive, check the discord for it\u001b[0m\u001b[0;34m\u001b[0m\u001b[0;34m\u001b[0m\u001b[0m\n\u001b[0;32m----> 2\u001b[0;31m \u001b[0mraw_data\u001b[0m \u001b[0;34m=\u001b[0m \u001b[0mgatherData\u001b[0m\u001b[0;34m(\u001b[0m\u001b[0mfirstMeasure\u001b[0m \u001b[0;34m=\u001b[0m \u001b[0;34m\"co2_ppm\"\u001b[0m\u001b[0;34m,\u001b[0m \u001b[0msecondMeasure\u001b[0m \u001b[0;34m=\u001b[0m \u001b[0;34m\"voltage_v\"\u001b[0m\u001b[0;34m)\u001b[0m\u001b[0;34m\u001b[0m\u001b[0;34m\u001b[0m\u001b[0m\n\u001b[0m",
            "\u001b[0;32m<ipython-input-2-542dc8ca88c7>\u001b[0m in \u001b[0;36mgatherData\u001b[0;34m(firstMeasure, secondMeasure)\u001b[0m\n\u001b[1;32m     25\u001b[0m   \u001b[0mextracted_data\u001b[0m \u001b[0;34m=\u001b[0m \u001b[0;34m[\u001b[0m\u001b[0;34m]\u001b[0m\u001b[0;34m\u001b[0m\u001b[0;34m\u001b[0m\u001b[0m\n\u001b[1;32m     26\u001b[0m   \u001b[0mn\u001b[0m \u001b[0;34m=\u001b[0m \u001b[0;36m0\u001b[0m\u001b[0;34m\u001b[0m\u001b[0;34m\u001b[0m\u001b[0m\n\u001b[0;32m---> 27\u001b[0;31m   \u001b[0;32mfor\u001b[0m \u001b[0mi\u001b[0m \u001b[0;32min\u001b[0m \u001b[0msecondData\u001b[0m\u001b[0;34m:\u001b[0m\u001b[0;34m\u001b[0m\u001b[0;34m\u001b[0m\u001b[0m\n\u001b[0m\u001b[1;32m     28\u001b[0m     \u001b[0;32mfor\u001b[0m \u001b[0mj\u001b[0m \u001b[0;32min\u001b[0m \u001b[0mi\u001b[0m\u001b[0;34m:\u001b[0m\u001b[0;34m\u001b[0m\u001b[0;34m\u001b[0m\u001b[0m\n\u001b[1;32m     29\u001b[0m       \u001b[0mdata\u001b[0m \u001b[0;34m=\u001b[0m \u001b[0;34m{\u001b[0m\u001b[0;34m'location_specific'\u001b[0m\u001b[0;34m:\u001b[0m \u001b[0msecondData\u001b[0m\u001b[0;34m.\u001b[0m\u001b[0mkeys\u001b[0m\u001b[0;34m(\u001b[0m\u001b[0;34m)\u001b[0m\u001b[0;34m[\u001b[0m\u001b[0mn\u001b[0m\u001b[0;34m]\u001b[0m\u001b[0;34m[\u001b[0m\u001b[0;36m1\u001b[0m\u001b[0;34m]\u001b[0m\u001b[0;34m[\u001b[0m\u001b[0;34m'location_specific'\u001b[0m\u001b[0;34m]\u001b[0m\u001b[0;34m,\u001b[0m \u001b[0;34m'device_id'\u001b[0m\u001b[0;34m:\u001b[0m \u001b[0msecondData\u001b[0m\u001b[0;34m.\u001b[0m\u001b[0mkeys\u001b[0m\u001b[0;34m(\u001b[0m\u001b[0;34m)\u001b[0m\u001b[0;34m[\u001b[0m\u001b[0mn\u001b[0m\u001b[0;34m]\u001b[0m\u001b[0;34m[\u001b[0m\u001b[0;36m1\u001b[0m\u001b[0;34m]\u001b[0m\u001b[0;34m[\u001b[0m\u001b[0;34m'device_id'\u001b[0m\u001b[0;34m]\u001b[0m\u001b[0;34m,\u001b[0m\u001b[0;34m'time'\u001b[0m\u001b[0;34m:\u001b[0m \u001b[0mj\u001b[0m\u001b[0;34m[\u001b[0m\u001b[0;34m'time'\u001b[0m\u001b[0;34m]\u001b[0m\u001b[0;34m,\u001b[0m \u001b[0msecondMeasure\u001b[0m\u001b[0;34m:\u001b[0m \u001b[0mj\u001b[0m\u001b[0;34m[\u001b[0m\u001b[0;34m'mean'\u001b[0m\u001b[0;34m]\u001b[0m\u001b[0;34m}\u001b[0m\u001b[0;34m\u001b[0m\u001b[0;34m\u001b[0m\u001b[0m\n",
            "\u001b[0;32m/usr/local/lib/python3.10/dist-packages/influxdb/resultset.py\u001b[0m in \u001b[0;36m__iter__\u001b[0;34m(self)\u001b[0m\n\u001b[1;32m    127\u001b[0m         \u001b[0;34m\"\"\"Yield one dict instance per series result.\"\"\"\u001b[0m\u001b[0;34m\u001b[0m\u001b[0;34m\u001b[0m\u001b[0m\n\u001b[1;32m    128\u001b[0m         \u001b[0;32mfor\u001b[0m \u001b[0mkey\u001b[0m \u001b[0;32min\u001b[0m \u001b[0mself\u001b[0m\u001b[0;34m.\u001b[0m\u001b[0mkeys\u001b[0m\u001b[0;34m(\u001b[0m\u001b[0;34m)\u001b[0m\u001b[0;34m:\u001b[0m\u001b[0;34m\u001b[0m\u001b[0;34m\u001b[0m\u001b[0m\n\u001b[0;32m--> 129\u001b[0;31m             \u001b[0;32myield\u001b[0m \u001b[0mlist\u001b[0m\u001b[0;34m(\u001b[0m\u001b[0mself\u001b[0m\u001b[0;34m.\u001b[0m\u001b[0m__getitem__\u001b[0m\u001b[0;34m(\u001b[0m\u001b[0mkey\u001b[0m\u001b[0;34m)\u001b[0m\u001b[0;34m)\u001b[0m\u001b[0;34m\u001b[0m\u001b[0;34m\u001b[0m\u001b[0m\n\u001b[0m\u001b[1;32m    130\u001b[0m \u001b[0;34m\u001b[0m\u001b[0m\n\u001b[1;32m    131\u001b[0m     \u001b[0;34m@\u001b[0m\u001b[0mstaticmethod\u001b[0m\u001b[0;34m\u001b[0m\u001b[0;34m\u001b[0m\u001b[0m\n",
            "\u001b[0;32m/usr/local/lib/python3.10/dist-packages/influxdb/resultset.py\u001b[0m in \u001b[0;36mget_points\u001b[0;34m(self, measurement, tags)\u001b[0m\n\u001b[1;32m    109\u001b[0m                 \u001b[0;31m# we will matches every returned series\u001b[0m\u001b[0;34m\u001b[0m\u001b[0;34m\u001b[0m\u001b[0m\n\u001b[1;32m    110\u001b[0m                 \u001b[0mseries_tags\u001b[0m \u001b[0;34m=\u001b[0m \u001b[0mseries\u001b[0m\u001b[0;34m.\u001b[0m\u001b[0mget\u001b[0m\u001b[0;34m(\u001b[0m\u001b[0;34m'tags'\u001b[0m\u001b[0;34m,\u001b[0m \u001b[0;34m{\u001b[0m\u001b[0;34m}\u001b[0m\u001b[0;34m)\u001b[0m\u001b[0;34m\u001b[0m\u001b[0;34m\u001b[0m\u001b[0m\n\u001b[0;32m--> 111\u001b[0;31m                 \u001b[0;32mfor\u001b[0m \u001b[0mitem\u001b[0m \u001b[0;32min\u001b[0m \u001b[0mself\u001b[0m\u001b[0;34m.\u001b[0m\u001b[0m_get_points_for_series\u001b[0m\u001b[0;34m(\u001b[0m\u001b[0mseries\u001b[0m\u001b[0;34m)\u001b[0m\u001b[0;34m:\u001b[0m\u001b[0;34m\u001b[0m\u001b[0;34m\u001b[0m\u001b[0m\n\u001b[0m\u001b[1;32m    112\u001b[0m                     \u001b[0;32mif\u001b[0m \u001b[0mtags\u001b[0m \u001b[0;32mis\u001b[0m \u001b[0;32mNone\u001b[0m \u001b[0;32mor\u001b[0m\u001b[0;31m \u001b[0m\u001b[0;31m\\\u001b[0m\u001b[0;34m\u001b[0m\u001b[0;34m\u001b[0m\u001b[0m\n\u001b[1;32m    113\u001b[0m                             \u001b[0mself\u001b[0m\u001b[0;34m.\u001b[0m\u001b[0m_tag_matches\u001b[0m\u001b[0;34m(\u001b[0m\u001b[0mitem\u001b[0m\u001b[0;34m,\u001b[0m \u001b[0mtags\u001b[0m\u001b[0;34m)\u001b[0m \u001b[0;32mor\u001b[0m\u001b[0;31m \u001b[0m\u001b[0;31m\\\u001b[0m\u001b[0;34m\u001b[0m\u001b[0;34m\u001b[0m\u001b[0m\n",
            "\u001b[0;32m/usr/local/lib/python3.10/dist-packages/influxdb/resultset.py\u001b[0m in \u001b[0;36m_get_points_for_series\u001b[0;34m(self, series)\u001b[0m\n\u001b[1;32m    187\u001b[0m         \"\"\"\n\u001b[1;32m    188\u001b[0m         \u001b[0;32mfor\u001b[0m \u001b[0mpoint\u001b[0m \u001b[0;32min\u001b[0m \u001b[0mseries\u001b[0m\u001b[0;34m.\u001b[0m\u001b[0mget\u001b[0m\u001b[0;34m(\u001b[0m\u001b[0;34m'values'\u001b[0m\u001b[0;34m,\u001b[0m \u001b[0;34m[\u001b[0m\u001b[0;34m]\u001b[0m\u001b[0;34m)\u001b[0m\u001b[0;34m:\u001b[0m\u001b[0;34m\u001b[0m\u001b[0;34m\u001b[0m\u001b[0m\n\u001b[0;32m--> 189\u001b[0;31m             yield self.point_from_cols_vals(\n\u001b[0m\u001b[1;32m    190\u001b[0m                 \u001b[0mseries\u001b[0m\u001b[0;34m[\u001b[0m\u001b[0;34m'columns'\u001b[0m\u001b[0;34m]\u001b[0m\u001b[0;34m,\u001b[0m\u001b[0;34m\u001b[0m\u001b[0;34m\u001b[0m\u001b[0m\n\u001b[1;32m    191\u001b[0m                 \u001b[0mpoint\u001b[0m\u001b[0;34m\u001b[0m\u001b[0;34m\u001b[0m\u001b[0m\n",
            "\u001b[0;32m/usr/local/lib/python3.10/dist-packages/influxdb/resultset.py\u001b[0m in \u001b[0;36mpoint_from_cols_vals\u001b[0;34m(cols, vals)\u001b[0m\n\u001b[1;32m    202\u001b[0m         \u001b[0mpoint\u001b[0m \u001b[0;34m=\u001b[0m \u001b[0;34m{\u001b[0m\u001b[0;34m}\u001b[0m\u001b[0;34m\u001b[0m\u001b[0;34m\u001b[0m\u001b[0m\n\u001b[1;32m    203\u001b[0m         \u001b[0;32mfor\u001b[0m \u001b[0mcol_index\u001b[0m\u001b[0;34m,\u001b[0m \u001b[0mcol_name\u001b[0m \u001b[0;32min\u001b[0m \u001b[0menumerate\u001b[0m\u001b[0;34m(\u001b[0m\u001b[0mcols\u001b[0m\u001b[0;34m)\u001b[0m\u001b[0;34m:\u001b[0m\u001b[0;34m\u001b[0m\u001b[0;34m\u001b[0m\u001b[0m\n\u001b[0;32m--> 204\u001b[0;31m             \u001b[0mpoint\u001b[0m\u001b[0;34m[\u001b[0m\u001b[0mcol_name\u001b[0m\u001b[0;34m]\u001b[0m \u001b[0;34m=\u001b[0m \u001b[0mvals\u001b[0m\u001b[0;34m[\u001b[0m\u001b[0mcol_index\u001b[0m\u001b[0;34m]\u001b[0m\u001b[0;34m\u001b[0m\u001b[0;34m\u001b[0m\u001b[0m\n\u001b[0m\u001b[1;32m    205\u001b[0m \u001b[0;34m\u001b[0m\u001b[0m\n\u001b[1;32m    206\u001b[0m         \u001b[0;32mreturn\u001b[0m \u001b[0mpoint\u001b[0m\u001b[0;34m\u001b[0m\u001b[0;34m\u001b[0m\u001b[0m\n",
            "\u001b[0;31mKeyboardInterrupt\u001b[0m: "
          ]
        }
      ]
    },
    {
      "cell_type": "code",
      "source": [
        "raw_data.to_csv('data.csv')"
      ],
      "metadata": {
        "id": "bEUSoYsgL6zn"
      },
      "execution_count": null,
      "outputs": []
    },
    {
      "cell_type": "code",
      "source": [
        "result = client.query('SELECT mean(value) FROM \"voltage_v\" WHERE time > now()-6h GROUP BY time(1m), device_id, location_specific;')\n",
        "for k,v in result.items():\n",
        "  print(k)\n",
        "  for d in v:\n",
        "    print(d)"
      ],
      "metadata": {
        "collapsed": true,
        "id": "rRhYhl_GIBiy"
      },
      "execution_count": null,
      "outputs": []
    },
    {
      "cell_type": "markdown",
      "source": [
        "# Basic Graphs (M2)"
      ],
      "metadata": {
        "id": "Yv7ZrOqqQdVk"
      }
    },
    {
      "cell_type": "code",
      "source": [
        "#get data for 211 olson for the last day for both CO2 and voltage\n",
        "x1 = []\n",
        "y1 = []\n",
        "result = client.query('SELECT mean(value) FROM \"co2_ppm\" WHERE time > now() - 300d AND time < now() - 293d AND location_specific = \\'277 Olsson\\' GROUP BY time(15m);')\n",
        "for k,v in result.items():\n",
        "  for d in v:\n",
        "    x1.append(iso8601.parse_date(d['time']))\n",
        "    y1.append(d['mean'])\n",
        "\n",
        "x2 = []\n",
        "y2 = []\n",
        "result = client.query('SELECT mean(value) FROM \"power_w\" WHERE time > now() - 300d AND time < now() - 293d AND location_specific = \\'277 Olsson\\' GROUP BY time(15m);')\n",
        "for k,v in result.items():\n",
        "  for d in v:\n",
        "    x2.append(iso8601.parse_date(d['time']))\n",
        "    y2.append(d['mean'])\n",
        "\n",
        "\n",
        "#with reference to https://matplotlib.org/3.4.3/gallery/ticks_and_spines/multiple_yaxis_with_spines.html\n",
        "#plotting the two\n",
        "\n",
        "\n",
        "fig, ax = plt.subplots()\n",
        "fig.subplots_adjust(right=0.75)\n",
        "\n",
        "twin1 = ax.twinx()\n",
        "\n",
        "\n",
        "p1, = ax.plot(x1, y1, \"b-\", label=\"CO2\")\n",
        "p2, = twin1.plot(x2, y2, \"r-\", label=\"Power\")\n",
        "\n",
        "#ax.set_xlim(0, 2)\n",
        "#ax.set_ylim(0, 2)\n",
        "#twin1.set_ylim(0, 4)\n",
        "\n",
        "ax.set_xlabel(\"Time\")\n",
        "ax.set_ylabel(\"CO2 (ppm)\")\n",
        "twin1.set_ylabel(\"Power (W)\")\n",
        "\n",
        "ax.yaxis.label.set_color(p1.get_color())\n",
        "twin1.yaxis.label.set_color(p2.get_color())\n",
        "\n",
        "tkw = dict(size=4, width=1.5)\n",
        "ax.tick_params(axis='y', colors=p1.get_color(), **tkw)\n",
        "twin1.tick_params(axis='y', colors=p2.get_color(), **tkw)\n",
        "ax.tick_params(axis='x', **tkw)\n",
        "\n",
        "ax.legend(handles=[p1, p2])\n",
        "\n",
        "plt.show()"
      ],
      "metadata": {
        "colab": {
          "base_uri": "https://localhost:8080/",
          "height": 237
        },
        "id": "U0oIcYmaQiD8",
        "outputId": "2a9258af-00ed-428f-aee1-a4889a3bfd8b"
      },
      "execution_count": null,
      "outputs": [
        {
          "output_type": "error",
          "ename": "NameError",
          "evalue": "name 'client' is not defined",
          "traceback": [
            "\u001b[0;31m---------------------------------------------------------------------------\u001b[0m",
            "\u001b[0;31mNameError\u001b[0m                                 Traceback (most recent call last)",
            "\u001b[0;32m<ipython-input-1-7d3511962d70>\u001b[0m in \u001b[0;36m<cell line: 4>\u001b[0;34m()\u001b[0m\n\u001b[1;32m      2\u001b[0m \u001b[0mx1\u001b[0m \u001b[0;34m=\u001b[0m \u001b[0;34m[\u001b[0m\u001b[0;34m]\u001b[0m\u001b[0;34m\u001b[0m\u001b[0;34m\u001b[0m\u001b[0m\n\u001b[1;32m      3\u001b[0m \u001b[0my1\u001b[0m \u001b[0;34m=\u001b[0m \u001b[0;34m[\u001b[0m\u001b[0;34m]\u001b[0m\u001b[0;34m\u001b[0m\u001b[0;34m\u001b[0m\u001b[0m\n\u001b[0;32m----> 4\u001b[0;31m \u001b[0mresult\u001b[0m \u001b[0;34m=\u001b[0m \u001b[0mclient\u001b[0m\u001b[0;34m.\u001b[0m\u001b[0mquery\u001b[0m\u001b[0;34m(\u001b[0m\u001b[0;34m'SELECT mean(value) FROM \"co2_ppm\" WHERE time > now() - 300d AND time < now() - 293d AND location_specific = \\'277 Olsson\\' GROUP BY time(15m);'\u001b[0m\u001b[0;34m)\u001b[0m\u001b[0;34m\u001b[0m\u001b[0;34m\u001b[0m\u001b[0m\n\u001b[0m\u001b[1;32m      5\u001b[0m \u001b[0;32mfor\u001b[0m \u001b[0mk\u001b[0m\u001b[0;34m,\u001b[0m\u001b[0mv\u001b[0m \u001b[0;32min\u001b[0m \u001b[0mresult\u001b[0m\u001b[0;34m.\u001b[0m\u001b[0mitems\u001b[0m\u001b[0;34m(\u001b[0m\u001b[0;34m)\u001b[0m\u001b[0;34m:\u001b[0m\u001b[0;34m\u001b[0m\u001b[0;34m\u001b[0m\u001b[0m\n\u001b[1;32m      6\u001b[0m   \u001b[0;32mfor\u001b[0m \u001b[0md\u001b[0m \u001b[0;32min\u001b[0m \u001b[0mv\u001b[0m\u001b[0;34m:\u001b[0m\u001b[0;34m\u001b[0m\u001b[0;34m\u001b[0m\u001b[0m\n",
            "\u001b[0;31mNameError\u001b[0m: name 'client' is not defined"
          ]
        }
      ]
    }
  ]
}